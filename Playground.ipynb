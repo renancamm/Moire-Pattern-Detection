{
 "cells": [
  {
   "cell_type": "markdown",
   "metadata": {},
   "source": [
    "# Playground"
   ]
  },
  {
   "cell_type": "markdown",
   "metadata": {
    "collapsed": true
   },
   "source": [
    "## Test 2D Wavelet Decomposition function\n",
    "This function(fwdHaarDWT2D) computes the 2D Wavelet Transform in the image. All the input images are passed through a Haar Wavelet Decomposition module, to get the LL, LH, HL and HHH component of the image."
   ]
  },
  {
   "cell_type": "code",
   "execution_count": null,
   "metadata": {},
   "outputs": [],
   "source": [
    "from PIL import Image\n",
    "from matplotlib import pyplot as plt\n",
    "from src.haar2D import fwdHaarDWT2D\n",
    "import silence_tensorflow.auto\n",
    "\n",
    "img = Image.open('./input/positiveImages/350_letterbox1024.jpg').convert('L')\n",
    "img = img.transpose(Image.Transpose.FLIP_LEFT_RIGHT)\n",
    "LL, LH, HL, HH = fwdHaarDWT2D(img)\n",
    "\n",
    "fig, axes = plt.subplots(2, 2)\n",
    "fig.tight_layout()\n",
    "axes[0, 0].imshow(LL)\n",
    "axes[0, 1].imshow(LH)\n",
    "axes[1, 0].imshow(HL)\n",
    "axes[1, 1].imshow(HH)\n",
    "axes[0, 0].set_title(\"LL\")\n",
    "axes[0, 1].set_title(\"LH\")\n",
    "axes[1, 0].set_title(\"HL\")\n",
    "axes[1, 1].set_title(\"HH\")\n",
    "plt.show()"
   ]
  },
  {
   "cell_type": "markdown",
   "metadata": {},
   "source": [
    "## Test training data creation\n",
    "The training images need to be put in two folders. positiveImages and negativeImages. positiveImages are the images which are captured from the display devices and has the presence of stron or weak Moiré patterms in it.\n",
    "negativeImages are the ones without Moiré Patterns (i.e. the images which are not captured from the display devices) "
   ]
  },
  {
   "cell_type": "code",
   "execution_count": null,
   "metadata": {},
   "outputs": [],
   "source": [
    "positiveImagePath = './input/positiveImages'\n",
    "negativeImagePath = './input/negativeImages'\n",
    "\n",
    "os.system(\"python src/createTrainingData.py {} {} {}\".format(positiveImagePath, negativeImagePath, 0))\n",
    "   "
   ]
  },
  {
   "cell_type": "markdown",
   "metadata": {},
   "source": [
    "## Test CNN training"
   ]
  },
  {
   "cell_type": "code",
   "execution_count": null,
   "metadata": {},
   "outputs": [],
   "source": [
    "positiveTrainImagePath = './output/trainDataPositive'\n",
    "negativeTrainImagePath = './output/trainDataNegative'\n",
    "epochs = 1\n",
    "    \n",
    "os.system(\"python src/train.py {} {} {} {} {}\".format(positiveImagePath, negativeImagePath, positiveTrainImagePath, negativeTrainImagePath, epochs))\n"
   ]
  },
  {
   "cell_type": "markdown",
   "metadata": {},
   "source": [
    "## Test CNN Evaluation"
   ]
  },
  {
   "cell_type": "code",
   "execution_count": null,
   "metadata": {},
   "outputs": [],
   "source": [
    "weightsFile = \"./output/model/moirePattern3CNN.h5\"\n",
    "    \n",
    "os.system(\"python src/test.py {} {} {}\".format(weightsFile, positiveImagePath, negativeImagePath))\n"
   ]
  }
 ],
 "metadata": {
  "anaconda-cloud": {},
  "kernelspec": {
   "display_name": "Python 3.10.4 ('moire-pattern-detection-nHN_hPF7-py3.10')",
   "language": "python",
   "name": "python3"
  },
  "language_info": {
   "codemirror_mode": {
    "name": "ipython",
    "version": 3
   },
   "file_extension": ".py",
   "mimetype": "text/x-python",
   "name": "python",
   "nbconvert_exporter": "python",
   "pygments_lexer": "ipython3",
   "version": "3.10.4"
  },
  "vscode": {
   "interpreter": {
    "hash": "a4b6be04e85a35b9be86ee2200274e06e8fd76226c044962090cd69361f95bd6"
   }
  }
 },
 "nbformat": 4,
 "nbformat_minor": 2
}
